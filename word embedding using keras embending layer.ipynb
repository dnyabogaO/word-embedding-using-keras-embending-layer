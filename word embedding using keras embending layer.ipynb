{
 "cells": [
  {
   "cell_type": "code",
   "execution_count": 10,
   "id": "47de25e6",
   "metadata": {},
   "outputs": [],
   "source": [
    "import numpy as np\n",
    "from tensorflow.keras.preprocessing.text import one_hot\n",
    "from tensorflow.keras.preprocessing.sequence import pad_sequences\n",
    "from tensorflow.keras.models import Sequential\n",
    "from tensorflow.keras.layers import Dense\n",
    "from tensorflow.keras.layers import Flatten\n",
    "from tensorflow.keras.layers import Embedding"
   ]
  },
  {
   "cell_type": "code",
   "execution_count": 11,
   "id": "34657652",
   "metadata": {},
   "outputs": [],
   "source": [
    "reviews = ['nice food',\n",
    "           'amazing restaurant',\n",
    "           'too good',\n",
    "           'just love it!',\n",
    "           'will do again',\n",
    "           'horrible food',\n",
    "           'never go there',\n",
    "           'poor service',\n",
    "           'poor quality',\n",
    "           'needs improvement']\n",
    "\n",
    "sentiment = np.array([1,1,1,1,1,0,0,0,0,0])"
   ]
  },
  {
   "cell_type": "code",
   "execution_count": 16,
   "id": "948ec7a1",
   "metadata": {},
   "outputs": [
    {
     "data": {
      "text/plain": [
       "[15, 4]"
      ]
     },
     "execution_count": 16,
     "metadata": {},
     "output_type": "execute_result"
    }
   ],
   "source": [
    "#next we convert this statements to numbers using one_hot encoding\n",
    "one_hot('amazing restaurant',30)#assings unique numbers to each word and range should be between the range specified in this case 30"
   ]
  },
  {
   "cell_type": "code",
   "execution_count": 18,
   "id": "15d29a03",
   "metadata": {
    "scrolled": true
   },
   "outputs": [
    {
     "name": "stdout",
     "output_type": "stream",
     "text": [
      "[[4, 8], [15, 4], [13, 1], [15, 11, 5], [21, 11, 29], [5, 8], [8, 29, 13], [7, 4], [7, 19], [8, 14]]\n"
     ]
    },
    {
     "data": {
      "text/plain": [
       "[[4, 8],\n",
       " [15, 4],\n",
       " [13, 1],\n",
       " [15, 11, 5],\n",
       " [21, 11, 29],\n",
       " [5, 8],\n",
       " [8, 29, 13],\n",
       " [7, 4],\n",
       " [7, 19],\n",
       " [8, 14]]"
      ]
     },
     "execution_count": 18,
     "metadata": {},
     "output_type": "execute_result"
    }
   ],
   "source": [
    "#using the above example we can covert all the statements as follows\n",
    "vocab_size = 30\n",
    "encoded_reviews = [one_hot(d, vocab_size) for d in reviews]\n",
    "print(encoded_reviews)\n",
    "encoded_reviews"
   ]
  },
  {
   "cell_type": "code",
   "execution_count": 21,
   "id": "bb246965",
   "metadata": {
    "scrolled": true
   },
   "outputs": [
    {
     "data": {
      "text/plain": [
       "array([[ 4,  8,  0],\n",
       "       [15,  4,  0],\n",
       "       [13,  1,  0],\n",
       "       [15, 11,  5],\n",
       "       [21, 11, 29],\n",
       "       [ 5,  8,  0],\n",
       "       [ 8, 29, 13],\n",
       "       [ 7,  4,  0],\n",
       "       [ 7, 19,  0],\n",
       "       [ 8, 14,  0]])"
      ]
     },
     "execution_count": 21,
     "metadata": {},
     "output_type": "execute_result"
    }
   ],
   "source": [
    "#you realize some sentences are two word sentences and others three, to balance this we need to do padding\n",
    "#padding adds all zeros to lesser patches to balance with bigger patch\n",
    "max_length = 3\n",
    "padded_reviews = pad_sequences(encoded_reviews, maxlen = max_length, padding = 'post')\n",
    "padded_reviews"
   ]
  },
  {
   "cell_type": "code",
   "execution_count": 29,
   "id": "4d9e586d",
   "metadata": {},
   "outputs": [],
   "source": [
    "#next we define our embedded vector size\n",
    "embedded_vector_size = 4\n",
    "\n",
    "model = Sequential()\n",
    "model.add(Embedding(vocab_size, embedded_vector_size, input_length = max_length, name = 'embedding'))\n",
    "model.add(Flatten())\n",
    "model.add(Dense(1, activation = 'sigmoid'))\n"
   ]
  },
  {
   "cell_type": "code",
   "execution_count": 30,
   "id": "825ca173",
   "metadata": {},
   "outputs": [],
   "source": [
    "#next we define our X and y\n",
    "X = padded_reviews\n",
    "y = sentiment\n"
   ]
  },
  {
   "cell_type": "code",
   "execution_count": 31,
   "id": "2f1d28eb",
   "metadata": {},
   "outputs": [
    {
     "name": "stdout",
     "output_type": "stream",
     "text": [
      "Model: \"sequential_5\"\n",
      "_________________________________________________________________\n",
      " Layer (type)                Output Shape              Param #   \n",
      "=================================================================\n",
      " embedding (Embedding)       (None, 3, 4)              120       \n",
      "                                                                 \n",
      " flatten_2 (Flatten)         (None, 12)                0         \n",
      "                                                                 \n",
      " dense_2 (Dense)             (None, 1)                 13        \n",
      "                                                                 \n",
      "=================================================================\n",
      "Total params: 133\n",
      "Trainable params: 133\n",
      "Non-trainable params: 0\n",
      "_________________________________________________________________\n"
     ]
    }
   ],
   "source": [
    "#we can now compile our model\n",
    "model.compile(optimizer = 'adam', loss = 'binary_crossentropy', metrics = ['accuracy'])\n",
    "model.summary()"
   ]
  },
  {
   "cell_type": "code",
   "execution_count": 32,
   "id": "e82d4737",
   "metadata": {},
   "outputs": [
    {
     "data": {
      "text/plain": [
       "<keras.callbacks.History at 0x230e65bbaf0>"
      ]
     },
     "execution_count": 32,
     "metadata": {},
     "output_type": "execute_result"
    }
   ],
   "source": [
    "#we now train our model\n",
    "model.fit(X,y, epochs = 50, verbose=0)"
   ]
  },
  {
   "cell_type": "code",
   "execution_count": 33,
   "id": "b6c2c337",
   "metadata": {
    "scrolled": true
   },
   "outputs": [
    {
     "name": "stdout",
     "output_type": "stream",
     "text": [
      "1/1 [==============================] - 1s 814ms/step - loss: 0.6314 - accuracy: 0.9000\n"
     ]
    }
   ],
   "source": [
    "#evaluate the model\n",
    "loss, accuracy = model.evaluate(X,y)"
   ]
  },
  {
   "cell_type": "code",
   "execution_count": 36,
   "id": "d1170b4d",
   "metadata": {},
   "outputs": [
    {
     "data": {
      "text/plain": [
       "30"
      ]
     },
     "execution_count": 36,
     "metadata": {},
     "output_type": "execute_result"
    }
   ],
   "source": [
    "#we can now check the weights given to each word\n",
    "weights = model.get_layer('embedding').get_weights()[0]\n",
    "weights\n",
    "len(weights)"
   ]
  },
  {
   "cell_type": "code",
   "execution_count": 37,
   "id": "f347764d",
   "metadata": {},
   "outputs": [
    {
     "data": {
      "text/plain": [
       "array([-0.02453337,  0.02097336,  0.06079375, -0.02149011], dtype=float32)"
      ]
     },
     "execution_count": 37,
     "metadata": {},
     "output_type": "execute_result"
    }
   ],
   "source": [
    "#we can now try to check whether our model can predict correctly the words nice and amazing which were assigned 4 and 15 in our case\n",
    "weights[4]"
   ]
  },
  {
   "cell_type": "code",
   "execution_count": 38,
   "id": "da0c82be",
   "metadata": {},
   "outputs": [
    {
     "data": {
      "text/plain": [
       "array([-0.01397455,  0.02096418,  0.07142939, -0.01550776], dtype=float32)"
      ]
     },
     "execution_count": 38,
     "metadata": {},
     "output_type": "execute_result"
    }
   ],
   "source": [
    "weights[15]"
   ]
  }
 ],
 "metadata": {
  "kernelspec": {
   "display_name": "Python 3 (ipykernel)",
   "language": "python",
   "name": "python3"
  },
  "language_info": {
   "codemirror_mode": {
    "name": "ipython",
    "version": 3
   },
   "file_extension": ".py",
   "mimetype": "text/x-python",
   "name": "python",
   "nbconvert_exporter": "python",
   "pygments_lexer": "ipython3",
   "version": "3.9.7"
  }
 },
 "nbformat": 4,
 "nbformat_minor": 5
}
